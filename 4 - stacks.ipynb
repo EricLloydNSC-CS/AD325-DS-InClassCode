{
 "cells": [
  {
   "cell_type": "code",
   "execution_count": 1,
   "metadata": {},
   "outputs": [],
   "source": [
    "class Stack:\n",
    "    # Initializes the stack. If the optional_max_length argument is omitted or \n",
    "    # negative, the stack is unbounded. If optional_max_length is non-negative, \n",
    "    # the stack is bounded.\n",
    "    def __init__(self, optional_max_length = -1):\n",
    "        self.stack_list = []\n",
    "        self.max_length = optional_max_length\n",
    "    #\n",
    "    # Gets the length of the stack\n",
    "    def __len__(self):\n",
    "        return len(self.stack_list)\n",
    "    #\n",
    "    # Pops and returns the stack's top item.\n",
    "    def pop(self):\n",
    "        return self.stack_list.pop()\n",
    "    #\n",
    "    # Pushes an item, provided the push doesn't exceed bounds. Does nothing \n",
    "    # otherwise. Returns True if the push occurred, False otherwise.\n",
    "    def push(self, item):\n",
    "        # If at max length, return false\n",
    "        if len(self.stack_list) == self.max_length:\n",
    "            return False\n",
    "        #\n",
    "        # If unbounded, or bounded and not yet at max length, then push\n",
    "        self.stack_list.append(item)\n",
    "        return True\n",
    "\n"
   ]
  },
  {
   "cell_type": "code",
   "execution_count": 2,
   "metadata": {},
   "outputs": [
    {
     "name": "stdout",
     "output_type": "stream",
     "text": [
      "Pushing values 1 through 8 to each stack\n",
      "Popping twice\n",
      "Pushing values to each stack: [10, 20, 30, 40]\n",
      "Bounded stack (max_length=4) contents:\n",
      "  20\n",
      "  10\n",
      "  2\n",
      "  1\n",
      "Unbounded stack contents:\n",
      "  40\n",
      "  30\n",
      "  20\n",
      "  10\n",
      "  6\n",
      "  5\n",
      "  4\n",
      "  3\n",
      "  2\n",
      "  1\n"
     ]
    }
   ],
   "source": [
    "# Make two stacks, one bounded to 4 items and the other bounded\n",
    "bounded_stack = Stack(4)\n",
    "unbounded_stack = Stack()\n",
    "\n",
    "# Push 8 items to each\n",
    "values_to_push = list(range(1, 9))\n",
    "print(\"Pushing values 1 through 8 to each stack\")\n",
    "for i in values_to_push:\n",
    "    bounded_stack.push(i)\n",
    "    unbounded_stack.push(i)\n",
    "\n",
    "# Pop two items off each stack\n",
    "print(\"Popping twice\")\n",
    "for i in range(2):\n",
    "    bounded_stack.pop()\n",
    "    unbounded_stack.pop()\n",
    "\n",
    "# Push 4 more items onto each stack\n",
    "values_to_push = list(range(10, 50, 10))\n",
    "print(f\"Pushing values to each stack: {values_to_push}\")\n",
    "for i in values_to_push:\n",
    "    bounded_stack.push(i)\n",
    "    unbounded_stack.push(i)\n",
    "\n",
    "# Display contents of each stack\n",
    "print(f\"Bounded stack (max_length={bounded_stack.max_length}) contents:\")\n",
    "while len(bounded_stack) > 0:\n",
    "    print(f\"  {bounded_stack.pop()}\")\n",
    "print(\"Unbounded stack contents:\")\n",
    "while len(unbounded_stack) > 0:\n",
    "    print(f\"  {unbounded_stack.pop()}\")"
   ]
  }
 ],
 "metadata": {
  "kernelspec": {
   "display_name": "AD325",
   "language": "python",
   "name": "python3"
  },
  "language_info": {
   "codemirror_mode": {
    "name": "ipython",
    "version": 3
   },
   "file_extension": ".py",
   "mimetype": "text/x-python",
   "name": "python",
   "nbconvert_exporter": "python",
   "pygments_lexer": "ipython3",
   "version": "3.1.undefined"
  }
 },
 "nbformat": 4,
 "nbformat_minor": 2
}
